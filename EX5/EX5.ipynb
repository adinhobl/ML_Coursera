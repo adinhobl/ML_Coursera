{
 "cells": [
  {
   "cell_type": "markdown",
   "metadata": {},
   "source": [
    "## Imports & Data"
   ]
  },
  {
   "cell_type": "code",
   "execution_count": 1,
   "metadata": {
    "collapsed": true
   },
   "outputs": [],
   "source": [
    "import numpy as np\n",
    "import matplotlib.pyplot as plt\n",
    "from scipy import optimize\n",
    "import scipy.io\n",
    "%matplotlib inline"
   ]
  },
  {
   "cell_type": "markdown",
   "metadata": {},
   "source": [
    "##### Importing & Viewing Data"
   ]
  },
  {
   "cell_type": "code",
   "execution_count": 2,
   "metadata": {
    "collapsed": true
   },
   "outputs": [],
   "source": [
    "filename = 'ex5data1.mat'\n",
    "data = scipy.io.loadmat(filename)"
   ]
  },
  {
   "cell_type": "code",
   "execution_count": 3,
   "metadata": {
    "collapsed": true,
    "scrolled": true
   },
   "outputs": [],
   "source": [
    "X = data['X']\n",
    "Xtest = data['Xtest']\n",
    "Xval = data['Xval']\n",
    "y = data['y']\n",
    "ytest = data['ytest']\n",
    "yval = data['yval']"
   ]
  },
  {
   "cell_type": "code",
   "execution_count": 4,
   "metadata": {},
   "outputs": [
    {
     "data": {
      "text/plain": [
       "[<matplotlib.lines.Line2D at 0x7f0caab38ba8>]"
      ]
     },
     "execution_count": 4,
     "metadata": {},
     "output_type": "execute_result"
    },
    {
     "data": {
      "image/png": "[encoded data removed]",
      "text/plain": [
       "<matplotlib.figure.Figure at 0x7f0cb294a278>"
      ]
     },
     "metadata": {},
     "output_type": "display_data"
    }
   ],
   "source": [
    "fig = plt.figure(figsize=(6,6))\n",
    "ax = fig.add_subplot(111)\n",
    "ax.set_xlim(-50,40)\n",
    "ax.set_ylim(0,40)\n",
    "plt.xlabel('Change in water level')\n",
    "plt.ylabel('Water flowing out of the dam')\n",
    "ax.plot(X,y,'ko')"
   ]
  },
  {
   "cell_type": "markdown",
   "metadata": {},
   "source": [
    "## Reg Linear Regression"
   ]
  },
  {
   "cell_type": "code",
   "execution_count": 5,
   "metadata": {},
   "outputs": [
    {
     "data": {
      "text/plain": [
       "12"
      ]
     },
     "execution_count": 5,
     "metadata": {},
     "output_type": "execute_result"
    }
   ],
   "source": [
    "m = np.shape(X)[0]\n",
    "m"
   ]
  },
  {
   "cell_type": "code",
   "execution_count": 6,
   "metadata": {
    "collapsed": true
   },
   "outputs": [],
   "source": [
    "theta = np.ones((2,1))"
   ]
  },
  {
   "cell_type": "code",
   "execution_count": 7,
   "metadata": {
    "collapsed": true
   },
   "outputs": [],
   "source": [
    "def linRegCost(theta, X, y, lamda=0):\n",
    "    \"\"\"Returns the regularized linear cost function and gradient of X and y, where X and y are np arrays.\n",
    "       X should already have a row of onesin the leftmost column.\"\"\"\n",
    "    \n",
    "    theta = theta.reshape((theta.size,-1)) # reshaping theta to a 2D array for matrix math\n",
    "  \n",
    "    m = np.shape(y)[0] # number of training examples\n",
    "    J = 0 # set initial cost\n",
    "    grad = np.zeros(np.shape(theta))\n",
    "    \n",
    "    J = 1 / (2 * m) * sum((X.dot(theta) - y) ** 2) + lamda / (2 * m) * theta[1:,:].T.dot(theta[1:,:])\n",
    "    \n",
    "    grad[0,:] = 1 / m * np.dot(X[:,0].T, (X.dot(theta) - y))\n",
    "    grad[1:,:] = 1 / m * np.dot(X[:,1:].T, (X.dot(theta) - y)) + lamda / m * theta[1:,:]\n",
    "    \n",
    "    return J, grad"
   ]
  },
  {
   "cell_type": "code",
   "execution_count": 8,
   "metadata": {},
   "outputs": [
    {
     "name": "stdout",
     "output_type": "stream",
     "text": [
      "[[ 303.99319222]]\n",
      "[[ -15.30301567]\n",
      " [ 598.25074417]]\n"
     ]
    }
   ],
   "source": [
    "a, b = linRegCost(theta, np.insert(X,0,1,1), y, 1)\n",
    "print(a)\n",
    "print(b)"
   ]
  },
  {
   "cell_type": "code",
   "execution_count": 9,
   "metadata": {},
   "outputs": [
    {
     "data": {
      "text/plain": [
       "(array([ 13.08790358,   0.36777923]), 9, 1)"
      ]
     },
     "execution_count": 9,
     "metadata": {},
     "output_type": "execute_result"
    }
   ],
   "source": [
    "results = optimize.fmin_tnc(linRegCost, fprime=None, x0=theta, args=(np.insert(X,0,1,1), y, 0))\n",
    "results"
   ]
  },
  {
   "cell_type": "code",
   "execution_count": 10,
   "metadata": {
    "scrolled": false
   },
   "outputs": [
    {
     "data": {
      "text/plain": [
       "[<matplotlib.lines.Line2D at 0x7f0caaa738d0>]"
      ]
     },
     "execution_count": 10,
     "metadata": {},
     "output_type": "execute_result"
    },
    {
     "data": {
      "image/png": "[encoded data removed]",
      "text/plain": [
       "<matplotlib.figure.Figure at 0x7f0caaa95e10>"
      ]
     },
     "metadata": {},
     "output_type": "display_data"
    }
   ],
   "source": [
    "fig = plt.figure(figsize=(6,6))\n",
    "ax = fig.add_subplot(111)\n",
    "ax.plot(X,y,'ko')\n",
    "plt.xlabel('Change in water level')\n",
    "plt.ylabel('Water flowing out of the dam')\n",
    "ax.set_xlim(-50,40)\n",
    "ax.set_ylim(-5,40)\n",
    "\n",
    "xrange = list(range(-50,40,1))\n",
    "yrange = [results[0][0] + results[0][1] * x for x in xrange]\n",
    "plt.plot(xrange, yrange, 'b.')"
   ]
  },
  {
   "cell_type": "markdown",
   "metadata": {},
   "source": [
    "## Learning Curves"
   ]
  },
  {
   "cell_type": "code",
   "execution_count": 11,
   "metadata": {
    "collapsed": true
   },
   "outputs": [],
   "source": [
    "def learningCurves(theta, X, y, Xval, yval, lamda=0):\n",
    "    \"\"\"Plots the learning curves of the regularized linear regression for every sub-size of the training set.\n",
    "       lamda only impacts the training of theta.\"\"\"\n",
    "    \n",
    "    m = np.shape(y)[0] # number of training examples\n",
    "    training = []\n",
    "    cv = []\n",
    "    \n",
    "    for i in range(1,m+1):\n",
    "        \n",
    "        # Fit on subset of training data\n",
    "        results = optimize.fmin_tnc(linRegCost, fprime=None, x0=theta, args=(np.insert(X[0:i,:],0,1,1), y[0:i,:], lamda))\n",
    "        theta1 = results[0].reshape(results[0].size,-1)\n",
    "        \n",
    "        # Calculate training error\n",
    "        training_error = linRegCost(theta1, np.insert(X[0:i,:],0,1,1), y[0:i,:], 0)\n",
    "        training.append(np.asscalar(training_error[0]))\n",
    "        \n",
    "        # Calculate cross-validation error\n",
    "        cv_error = linRegCost(theta1, np.insert(Xval,0,1,1), yval, 0)\n",
    "        cv.append(np.asscalar(cv_error[0]))\n",
    "        \n",
    "    # Plot learning curves\n",
    "    xrange = list(range(1,m+1))\n",
    "    plt.xlabel('Number of training examples')\n",
    "    plt.ylabel('Error')\n",
    "    plt.plot(xrange, training, 'b-')\n",
    "    plt.plot(xrange, cv, 'g-')\n",
    "    "
   ]
  },
  {
   "cell_type": "code",
   "execution_count": 12,
   "metadata": {
    "scrolled": false
   },
   "outputs": [
    {
     "data": {
      "image/png": "[encoded data removed]",
      "text/plain": [
       "<matplotlib.figure.Figure at 0x7f0caab38b38>"
      ]
     },
     "metadata": {},
     "output_type": "display_data"
    }
   ],
   "source": [
    "learningCurves(theta, X, y, Xval, yval, 1)"
   ]
  },
  {
   "cell_type": "markdown",
   "metadata": {},
   "source": [
    "## Polynomial Regression"
   ]
  },
  {
   "cell_type": "code",
   "execution_count": 13,
   "metadata": {
    "collapsed": true
   },
   "outputs": [],
   "source": [
    "def polyFeatures(X, p):\n",
    "    \"\"\"For each row in X, sets X_poly to X^1, X^2...X^p, where p is the highest degree of polynomial. Does not insert \n",
    "       ones on the lefthand column.\"\"\"\n",
    "    \n",
    "    X_poly = np.zeros((X.shape[0], p))\n",
    "    \n",
    "    for i in range(1,p+1):\n",
    "        X_poly[:,i-1] = X[:,0] ** i\n",
    "        \n",
    "    return X_poly"
   ]
  },
  {
   "cell_type": "code",
   "execution_count": 14,
   "metadata": {},
   "outputs": [],
   "source": [
    "def featureNormalize(X):\n",
    "    \"\"\"Normalized X by subtracting the mean values of columns from each element of the column, and then dividing the \n",
    "       values of the column by the column's standard deviation.\"\"\"\n",
    "    \n",
    "    mu = np.mean(X, axis=0)\n",
    "    sigma = np.std(X,axis=0,ddof=1)\n",
    "    X_norm = np.divide(X - mu, sigma)\n",
    "    \n",
    "    return X_norm, mu, sigma"
   ]
  },
  {
   "cell_type": "code",
   "execution_count": 15,
   "metadata": {},
   "outputs": [
    {
     "data": {
      "text/plain": [
       "(array([[ -3.62140776e-01,  -7.55086688e-01,   1.82225876e-01],\n",
       "        [ -8.03204845e-01,   1.25825266e-03,  -2.47936991e-01],\n",
       "        [  1.37746700e+00,   5.84826715e-01,   1.24976856e+00],\n",
       "        [  1.42093988e+00,   7.06646754e-01,   1.35984559e+00],\n",
       "        [ -1.43414853e+00,   1.85399982e+00,  -2.03716308e+00],\n",
       "        [ -1.28687086e-01,  -9.75968776e-01,   2.51385075e-01],\n",
       "        [  6.80581552e-01,  -7.80028951e-01,   3.40655738e-01],\n",
       "        [ -9.88534310e-01,   4.51358004e-01,  -6.01281871e-01],\n",
       "        [  2.16075753e-01,  -1.07499276e+00,   2.66275156e-01],\n",
       "        [ -1.31150068e+00,   1.42280595e+00,  -1.54812094e+00],\n",
       "        [  4.03776736e-01,  -1.01501039e+00,   2.73378511e-01],\n",
       "        [  9.29375305e-01,  -4.19807932e-01,   5.10968368e-01]]),\n",
       " array([ -5.08542635e+00,   8.48904834e+02,  -1.28290173e+04]),\n",
       " array([  2.99644020e+01,   7.87889103e+02,   4.81896178e+04]))"
      ]
     },
     "execution_count": 15,
     "metadata": {},
     "output_type": "execute_result"
    }
   ],
   "source": [
    "featureNormalize(polyFeatures(X,3)) # testing"
   ]
  },
  {
   "cell_type": "code",
   "execution_count": 16,
   "metadata": {},
   "outputs": [],
   "source": [
    "degree = 8\n",
    "X_poly, mu, sigma = featureNormalize(polyFeatures(X,degree))\n",
    "X_poly_test = (polyFeatures(Xtest,degree) - mu) / sigma\n",
    "X_poly_val = (polyFeatures(Xval,degree) - mu) / sigma"
   ]
  },
  {
   "cell_type": "code",
   "execution_count": 17,
   "metadata": {},
   "outputs": [],
   "source": [
    "def trainLinearReg(X, y, lamda=0):\n",
    "\n",
    "    init_theta = np.zeros((X.shape[1] + 1,1))\n",
    "    \n",
    "    results = optimize.fmin_tnc(linRegCost, fprime=None, x0=init_theta, args=(np.insert(X,0,1,1), y, lamda))\n",
    "    \n",
    "    theta = results[0]\n",
    "      \n",
    "    return theta"
   ]
  },
  {
   "cell_type": "code",
   "execution_count": 18,
   "metadata": {},
   "outputs": [
    {
     "data": {
      "text/plain": [
       "array([[ 11.21755225],\n",
       "       [ 10.77208742],\n",
       "       [ 20.89306893],\n",
       "       [ 18.07330702],\n",
       "       [-40.71040735],\n",
       "       [-44.31361327],\n",
       "       [ 37.0273915 ],\n",
       "       [ 35.64990166],\n",
       "       [ -3.22171319]])"
      ]
     },
     "execution_count": 18,
     "metadata": {},
     "output_type": "execute_result"
    }
   ],
   "source": [
    "theta1 = trainLinearReg(X_poly, y, 0).reshape(-1,1)\n",
    "theta1"
   ]
  },
  {
   "cell_type": "code",
   "execution_count": 19,
   "metadata": {},
   "outputs": [
    {
     "data": {
      "text/plain": [
       "[<matplotlib.lines.Line2D at 0x7f0caa95b208>]"
      ]
     },
     "execution_count": 19,
     "metadata": {},
     "output_type": "execute_result"
    },
    {
     "data": {
      "image/png": "[encoded data removed]",
      "text/plain": [
       "<matplotlib.figure.Figure at 0x7f0caaa2de48>"
      ]
     },
     "metadata": {},
     "output_type": "display_data"
    }
   ],
   "source": [
    "fig = plt.figure(figsize=(6,6))\n",
    "ax = fig.add_subplot(111)\n",
    "ax.plot(X,y,'ko')\n",
    "plt.xlabel('Change in water level')\n",
    "plt.ylabel('Water flowing out of the dam')\n",
    "ax.set_xlim(-80,80)\n",
    "ax.set_ylim(-50,80)\n",
    "\n",
    "xrange = np.reshape(np.arange(-80,65,1),(-1,1))\n",
    "xx = (polyFeatures(xrange,degree) - mu) / sigma\n",
    "yrange = np.dot(np.insert(xx,0,1,1), theta1)\n",
    "plt.plot(xrange, yrange, 'b-')"
   ]
  },
  {
   "cell_type": "code",
   "execution_count": 20,
   "metadata": {},
   "outputs": [
    {
     "data": {
      "text/plain": [
       "(array([[ 0.0429185]]), array([[ -3.70717026e-05],\n",
       "        [  3.17468881e-03],\n",
       "        [ -2.37717970e-03],\n",
       "        [  2.12401865e-03],\n",
       "        [  5.73276756e-04],\n",
       "        [  7.81455505e-05],\n",
       "        [  2.90221757e-03],\n",
       "        [ -2.50466313e-03],\n",
       "        [  3.93595090e-03]]))"
      ]
     },
     "execution_count": 20,
     "metadata": {},
     "output_type": "execute_result"
    }
   ],
   "source": [
    "linRegCost(theta1, np.insert(X_poly,0,1,1), y, 0)"
   ]
  },
  {
   "cell_type": "markdown",
   "metadata": {},
   "source": [
    "Using fmin_tnc produces a different theta than the one in MATLAB. Below I have changed some definitions and am using fmin_cg. This produces a lower error."
   ]
  },
  {
   "cell_type": "code",
   "execution_count": 21,
   "metadata": {},
   "outputs": [
    {
     "name": "stdout",
     "output_type": "stream",
     "text": [
      "Optimization terminated successfully.\n",
      "         Current function value: 0.028892\n",
      "         Iterations: 1076\n",
      "         Function evaluations: 2068\n",
      "         Gradient evaluations: 2068\n"
     ]
    }
   ],
   "source": [
    "def Jcost(theta, X, y, lamda=0):\n",
    "    \"\"\"Returns the regularized linear cost function and gradient of X and y, where X and y are np arrays.\n",
    "       X should already have a row of onesin the leftmost column.\"\"\"\n",
    "    \n",
    "    theta = theta.reshape((theta.size,-1)) # reshaping theta to a 2D array for matrix math\n",
    "  \n",
    "    m = np.shape(y)[0] # number of training examples\n",
    "    J = 0 # set initial cost\n",
    "    \n",
    "    J = 1 / (2 * m) * sum((X.dot(theta) - y) ** 2) + lamda / (2 * m) * theta[1:,:].T.dot(theta[1:,:])\n",
    "    \n",
    "    return J\n",
    "\n",
    "def Jgrad(theta, X, y, lamda=0):\n",
    "    \"\"\"Returns the regularized linear cost function and gradient of X and y, where X and y are np arrays.\n",
    "       X should already have a row of onesin the leftmost column.\"\"\"\n",
    "    \n",
    "    theta = theta.reshape((theta.size,-1)) # reshaping theta to a 2D array for matrix math\n",
    "  \n",
    "    m = np.shape(y)[0] # number of training examples\n",
    "    grad = np.zeros(np.shape(theta))\n",
    "    \n",
    "    grad[0,:] = 1 / m * np.dot(X[:,0].T, (X.dot(theta) - y))\n",
    "    grad[1:,:] = 1 / m * np.dot(X[:,1:].T, (X.dot(theta) - y)) + lamda / m * theta[1:,:]\n",
    "    \n",
    "    return grad.flatten()\n",
    "\n",
    "\n",
    "init_theta = np.zeros((X_poly.shape[1] + 1,1))\n",
    "theta2 = optimize.fmin_cg(Jcost, fprime=Jgrad, x0=init_theta, args=(np.insert(X_poly,0,1,1), y, 0))"
   ]
  },
  {
   "cell_type": "code",
   "execution_count": 22,
   "metadata": {},
   "outputs": [
    {
     "data": {
      "image/png": "[encoded data removed]",
      "text/plain": [
       "<matplotlib.figure.Figure at 0x7f0caa9c6438>"
      ]
     },
     "metadata": {},
     "output_type": "display_data"
    }
   ],
   "source": [
    "learningCurves(init_theta, X_poly, y, X_poly_val, yval, lamda=0)"
   ]
  },
  {
   "cell_type": "markdown",
   "metadata": {},
   "source": [
    "Training error is very low, but CV error is still quite high. This means that the model is overfitting, and you should use regularization."
   ]
  },
  {
   "cell_type": "markdown",
   "metadata": {},
   "source": [
    "## Regularized Polynomial Linear Regression"
   ]
  },
  {
   "cell_type": "markdown",
   "metadata": {},
   "source": [
    "#### lambda = 1"
   ]
  },
  {
   "cell_type": "code",
   "execution_count": 23,
   "metadata": {},
   "outputs": [
    {
     "data": {
      "text/plain": [
       "[<matplotlib.lines.Line2D at 0x7f0caa9412e8>]"
      ]
     },
     "execution_count": 23,
     "metadata": {},
     "output_type": "execute_result"
    },
    {
     "data": {
      "image/png": "[encoded data removed]",
      "text/plain": [
       "<matplotlib.figure.Figure at 0x7f0caaa22eb8>"
      ]
     },
     "metadata": {},
     "output_type": "display_data"
    }
   ],
   "source": [
    "theta3 = trainLinearReg(X_poly, y, 1).reshape(-1,1)\n",
    "\n",
    "fig = plt.figure(figsize=(6,6))\n",
    "ax = fig.add_subplot(111)\n",
    "ax.plot(X,y,'ko')\n",
    "plt.xlabel('Change in water level')\n",
    "plt.ylabel('Water flowing out of the dam')\n",
    "ax.set_xlim(-80,80)\n",
    "ax.set_ylim(-50,80)\n",
    "\n",
    "xrange = np.reshape(np.arange(-80,65,1),(-1,1))\n",
    "xx = (polyFeatures(xrange,degree) - mu) / sigma\n",
    "yrange = np.dot(np.insert(xx,0,1,1), theta3)\n",
    "plt.plot(xrange, yrange, 'b-')"
   ]
  },
  {
   "cell_type": "code",
   "execution_count": 24,
   "metadata": {},
   "outputs": [
    {
     "data": {
      "image/png": "[encoded data removed]",
      "text/plain": [
       "<matplotlib.figure.Figure at 0x7f0cb294a048>"
      ]
     },
     "metadata": {},
     "output_type": "display_data"
    }
   ],
   "source": [
    "learningCurves(init_theta, X_poly, y, X_poly_val, yval, lamda=1)"
   ]
  },
  {
   "cell_type": "markdown",
   "metadata": {},
   "source": [
    "This model does not have high variance or high bias problems. The training curves show a much lower error for the CV set, and there is not much of a gap."
   ]
  },
  {
   "cell_type": "markdown",
   "metadata": {},
   "source": [
    "#### lambda = 100"
   ]
  },
  {
   "cell_type": "code",
   "execution_count": 25,
   "metadata": {},
   "outputs": [
    {
     "data": {
      "text/plain": [
       "[<matplotlib.lines.Line2D at 0x7f0caa886cc0>]"
      ]
     },
     "execution_count": 25,
     "metadata": {},
     "output_type": "execute_result"
    },
    {
     "data": {
      "image/png": "[encoded data removed]",
      "text/plain": [
       "<matplotlib.figure.Figure at 0x7f0caa8b2d30>"
      ]
     },
     "metadata": {},
     "output_type": "display_data"
    }
   ],
   "source": [
    "theta4 = trainLinearReg(X_poly, y, 100).reshape(-1,1)\n",
    "\n",
    "fig = plt.figure(figsize=(6,6))\n",
    "ax = fig.add_subplot(111)\n",
    "ax.plot(X,y,'ko')\n",
    "plt.xlabel('Change in water level')\n",
    "plt.ylabel('Water flowing out of the dam')\n",
    "ax.set_xlim(-80,80)\n",
    "ax.set_ylim(-10,40)\n",
    "\n",
    "xrange = np.reshape(np.arange(-80,65,1),(-1,1))\n",
    "xx = (polyFeatures(xrange,degree) - mu) / sigma\n",
    "yrange = np.dot(np.insert(xx,0,1,1), theta4)\n",
    "plt.plot(xrange, yrange, 'b-')"
   ]
  },
  {
   "cell_type": "markdown",
   "metadata": {},
   "source": [
    "## Selecting Lambda Using Cross-Validation Set"
   ]
  },
  {
   "cell_type": "code",
   "execution_count": 26,
   "metadata": {
    "collapsed": true
   },
   "outputs": [],
   "source": [
    "def validationCurve(X, y, Xval, yval):\n",
    "    \"\"\"Finds the training and CV error for a model over a range of different lambda values.\"\"\"\n",
    "    \n",
    "    lamda_vec = [0, 0.001, 0.003, 0.01, 0.03, 0.1, 0.3, 1, 3, 10]\n",
    "    error_train = np.zeros((len(lamda_vec),1))\n",
    "    error_cv = np.zeros((len(lamda_vec),1))\n",
    "    \n",
    "    for i in range(len(lamda_vec)):\n",
    "        lamda = lamda_vec[i]\n",
    "        theta = trainLinearReg(X, y, lamda).reshape(-1,1)\n",
    "        error_train[i,0] = linRegCost(theta, np.insert(X,0,1,1), y, 0)[0]\n",
    "        error_cv[i,0] = linRegCost(theta, np.insert(Xval,0,1,1), yval, 0)[0]\n",
    "    \n",
    "    return lamda_vec, error_train, error_cv\n",
    "    "
   ]
  },
  {
   "cell_type": "code",
   "execution_count": 27,
   "metadata": {},
   "outputs": [],
   "source": [
    "lamda_vec, error_train, error_cv = validationCurve(X_poly, y, X_poly_val, yval)"
   ]
  },
  {
   "cell_type": "code",
   "execution_count": 28,
   "metadata": {},
   "outputs": [
    {
     "data": {
      "text/plain": [
       "[<matplotlib.lines.Line2D at 0x7f0caa7dffd0>]"
      ]
     },
     "execution_count": 28,
     "metadata": {},
     "output_type": "execute_result"
    },
    {
     "data": {
      "image/png": "[encoded data removed]",
      "text/plain": [
       "<matplotlib.figure.Figure at 0x7f0caa8a4588>"
      ]
     },
     "metadata": {},
     "output_type": "display_data"
    }
   ],
   "source": [
    "fig = plt.figure(figsize=(6,6))\n",
    "ax = fig.add_subplot(111)\n",
    "plt.xlabel('lambda')\n",
    "plt.ylabel('Error')\n",
    "ax.set_xlim(0,10)\n",
    "ax.set_ylim(0,20)\n",
    "ax.plot(lamda_vec, error_train, 'b-')\n",
    "ax.plot(lamda_vec, error_cv, 'g-')"
   ]
  },
  {
   "cell_type": "markdown",
   "metadata": {},
   "source": [
    "From this, you see that the lowest cross validation error is with lambda=3. Next, we will test this on the test set and see what the error is."
   ]
  },
  {
   "cell_type": "code",
   "execution_count": 29,
   "metadata": {},
   "outputs": [
    {
     "name": "stdout",
     "output_type": "stream",
     "text": [
      "Cost = 3.859912158208825\n"
     ]
    }
   ],
   "source": [
    "theta5 = trainLinearReg(X_poly, y, 3).reshape(-1,1)\n",
    "cost = linRegCost(theta5, np.insert(X_poly_test,0,1,1), ytest, 0)\n",
    "print(\"Cost =\", np.asscalar(cost[0]))"
   ]
  },
  {
   "cell_type": "code",
   "execution_count": null,
   "metadata": {
    "collapsed": true
   },
   "outputs": [],
   "source": []
  }
 ],
 "metadata": {
  "kernelspec": {
   "display_name": "Python 3",
   "language": "python",
   "name": "python3"
  },
  "language_info": {
   "codemirror_mode": {
    "name": "ipython",
    "version": 3
   },
   "file_extension": ".py",
   "mimetype": "text/x-python",
   "name": "python",
   "nbconvert_exporter": "python",
   "pygments_lexer": "ipython3",
   "version": "3.6.3"
  }
 },
 "nbformat": 4,
 "nbformat_minor": 2
}
